{
  "cells": [
    {
      "cell_type": "markdown",
      "metadata": {
        "colab_type": "text",
        "id": "view-in-github"
      },
      "source": [
        "<a href=\"https://colab.research.google.com/github/ashfaq-khan14/Traffic-sign-Board-recognition-system/blob/main/Untitled6.ipynb\" target=\"_parent\"><img src=\"https://colab.research.google.com/assets/colab-badge.svg\" alt=\"Open In Colab\"/></a>"
      ]
    },
    {
      "cell_type": "markdown",
      "id": "jwfYijBiYclO",
      "metadata": {
        "id": "jwfYijBiYclO"
      },
      "source": [
        "# Traffic Sign Recognition\n",
        "\n",
        "### Importing Necessary Libraires"
      ]
    },
    {
      "cell_type": "code",
      "execution_count": null,
      "id": "8c530b81",
      "metadata": {
        "id": "8c530b81"
      },
      "outputs": [],
      "source": [
        "import numpy as np\n",
        "import matplotlib.pyplot as plt\n",
        "from keras.models import Sequential\n",
        "from keras.layers import Dense\n",
        "from keras.optimizers import Adam\n",
        "from keras.utils.np_utils import to_categorical\n",
        "from keras.layers import Dropout, Flatten\n",
        "from keras.layers import Conv2D, MaxPooling2D\n",
        "import cv2\n",
        "from sklearn.model_selection import train_test_split\n",
        "import pickle\n",
        "import os\n",
        "import pandas as pd\n",
        "from keras.preprocessing.image import ImageDataGenerator\n",
        "\n"
      ]
    },
    {
      "cell_type": "code",
      "execution_count": null,
      "id": "1lBI6-b1nCo5",
      "metadata": {
        "id": "1lBI6-b1nCo5"
      },
      "outputs": [],
      "source": [
        "!pip install tensorflow"
      ]
    },
    {
      "cell_type": "code",
      "execution_count": null,
      "id": "rJ_urW9hnQiL",
      "metadata": {
        "id": "rJ_urW9hnQiL"
      },
      "outputs": [],
      "source": [
        "!pip install keras==2.4.3"
      ]
    },
    {
      "cell_type": "markdown",
      "id": "rA-wlebOY7Pp",
      "metadata": {
        "id": "rA-wlebOY7Pp"
      },
      "source": [
        "### Unziping the Dataset\n",
        "https://drive.google.com/file/d/1Tzw4hHHRIhkJpCeFye5kafD_Go7A4vNv/view?usp=drive_link"
      ]
    },
    {
      "cell_type": "code",
      "execution_count": null,
      "id": "BNxWqPIL2GYU",
      "metadata": {
        "id": "BNxWqPIL2GYU"
      },
      "outputs": [],
      "source": [
        "! unzip \"/content/drive/MyDrive/Dataset.zip\" -d \"/content/sample_data\""
      ]
    },
    {
      "cell_type": "markdown",
      "id": "WLQVnmJ-ZPI4",
      "metadata": {
        "id": "WLQVnmJ-ZPI4"
      },
      "source": [
        "### Building Dataset as readable"
      ]
    },
    {
      "cell_type": "code",
      "execution_count": null,
      "id": "ef894fb5",
      "metadata": {
        "id": "ef894fb5"
      },
      "outputs": [],
      "source": [
        "path = \"/content/sample_data/Dataset\"\n",
        "labelFile = '/content/labels.csv'\n",
        "batch_size_val=32\n",
        "epochs_val=10\n",
        "imageDimesions = (32,32,3)\n",
        "testRatio = 0.2\n",
        "validationRatio = 0.2"
      ]
    },
    {
      "cell_type": "code",
      "execution_count": null,
      "id": "GQe6GNOiuDR-",
      "metadata": {
        "colab": {
          "base_uri": "https://localhost:8080/"
        },
        "id": "GQe6GNOiuDR-",
        "outputId": "afaeeeeb-4adc-42b5-81c2-5332c57cb1ae"
      },
      "outputs": [
        {
          "name": "stdout",
          "output_type": "stream",
          "text": [
            "Mounted at /content/drive\n"
          ]
        }
      ],
      "source": [
        "from google.colab import drive\n",
        "drive.mount('/content/drive')"
      ]
    },
    {
      "cell_type": "code",
      "execution_count": null,
      "id": "f8aba3be",
      "metadata": {
        "colab": {
          "base_uri": "https://localhost:8080/"
        },
        "id": "f8aba3be",
        "outputId": "c050f05b-f55e-4240-b9d0-5feda072676e"
      },
      "outputs": [
        {
          "name": "stdout",
          "output_type": "stream",
          "text": [
            "Total Classes Detected: 43\n",
            "Importing Classes.....\n",
            "0 1 2 3 4 5 6 7 8 9 10 11 12 13 14 15 16 17 18 19 20 21 22 23 24 25 26 27 28 29 30 31 32 33 34 35 36 37 38 39 40 41 42  \n"
          ]
        }
      ],
      "source": [
        "count = 0\n",
        "images = []\n",
        "classNo = []\n",
        "myList = os.listdir(path)\n",
        "print(\"Total Classes Detected:\",len(myList))\n",
        "noOfClasses=len(myList)\n",
        "print(\"Importing Classes.....\")\n",
        "for x in range (0,len(myList)):\n",
        "    myPicList = os.listdir(path+\"/\"+str(count))\n",
        "    for y in myPicList:\n",
        "        curImg = cv2.imread(path+\"/\"+str(count)+\"/\"+y)\n",
        "        images.append(curImg)\n",
        "        classNo.append(count)\n",
        "    print(count, end =\" \")\n",
        "    count +=1\n",
        "print(\" \")\n",
        "images = np.array(images)\n",
        "classNo = np.array(classNo)\n"
      ]
    },
    {
      "cell_type": "markdown",
      "id": "5KTxpvDuZepF",
      "metadata": {
        "id": "5KTxpvDuZepF"
      },
      "source": [
        "## Model Building"
      ]
    },
    {
      "cell_type": "code",
      "execution_count": null,
      "id": "4d8e7c2f",
      "metadata": {
        "id": "4d8e7c2f"
      },
      "outputs": [],
      "source": [
        "X_train, X_test, y_train, y_test = train_test_split(images, classNo, test_size=testRatio)\n",
        "X_train, X_validation, y_train, y_validation = train_test_split(X_train, y_train, test_size=validationRatio)\n",
        "\n"
      ]
    },
    {
      "cell_type": "code",
      "execution_count": null,
      "id": "aaa10752",
      "metadata": {
        "colab": {
          "base_uri": "https://localhost:8080/"
        },
        "id": "aaa10752",
        "outputId": "8f0c3901-d6d2-43aa-cff2-9d4f005e2f17"
      },
      "outputs": [
        {
          "name": "stdout",
          "output_type": "stream",
          "text": [
            "Data Shapes\n",
            "Train(22271, 32, 32, 3) (22271,)\n",
            "Validation(5568, 32, 32, 3) (5568,)\n",
            "Test(6960, 32, 32, 3) (6960,)\n"
          ]
        }
      ],
      "source": [
        "print(\"Data Shapes\")\n",
        "print(\"Train\",end = \"\");print(X_train.shape,y_train.shape)\n",
        "print(\"Validation\",end = \"\");print(X_validation.shape,y_validation.shape)\n",
        "print(\"Test\",end = \"\");print(X_test.shape,y_test.shape)\n"
      ]
    },
    {
      "cell_type": "code",
      "execution_count": null,
      "id": "2f96f7f5",
      "metadata": {
        "colab": {
          "base_uri": "https://localhost:8080/"
        },
        "id": "2f96f7f5",
        "outputId": "bfeeb6a4-fbaa-4e6e-ab81-2a874b015a77"
      },
      "outputs": [
        {
          "name": "stdout",
          "output_type": "stream",
          "text": [
            "data shape  (43, 2) <class 'pandas.core.frame.DataFrame'>\n"
          ]
        }
      ],
      "source": [
        "data=pd.read_csv(labelFile)\n",
        "print(\"data shape \",data.shape,type(data))\n"
      ]
    },
    {
      "cell_type": "code",
      "execution_count": null,
      "id": "6dde63b6",
      "metadata": {
        "id": "6dde63b6"
      },
      "outputs": [],
      "source": [
        "num_of_samples = []\n",
        "cols = 5\n",
        "num_classes = noOfClasses"
      ]
    },
    {
      "cell_type": "markdown",
      "id": "3Ysynd1haFbP",
      "metadata": {
        "id": "3Ysynd1haFbP"
      },
      "source": [
        "### Preprocessing"
      ]
    },
    {
      "cell_type": "code",
      "execution_count": null,
      "id": "7c6e39b3",
      "metadata": {
        "id": "7c6e39b3"
      },
      "outputs": [],
      "source": [
        "def grayscale(img):\n",
        "    img = cv2.cvtColor(img,cv2.COLOR_BGR2GRAY)\n",
        "    return img\n",
        "def equalize(img):\n",
        "    img =cv2.equalizeHist(img)\n",
        "    return img\n"
      ]
    },
    {
      "cell_type": "code",
      "execution_count": null,
      "id": "1b87aa87",
      "metadata": {
        "id": "1b87aa87"
      },
      "outputs": [],
      "source": [
        "def preprocessing(img):\n",
        "    img = grayscale(img)\n",
        "    img = equalize(img)\n",
        "    img = img/255\n",
        "    return img"
      ]
    },
    {
      "cell_type": "code",
      "execution_count": null,
      "id": "fe089efa",
      "metadata": {
        "id": "fe089efa"
      },
      "outputs": [],
      "source": [
        "X_train=np.array(list(map(preprocessing,X_train)))\n",
        "X_validation=np.array(list(map(preprocessing,X_validation)))\n",
        "X_test=np.array(list(map(preprocessing,X_test)))\n"
      ]
    },
    {
      "cell_type": "code",
      "execution_count": null,
      "id": "385f9a83",
      "metadata": {
        "id": "385f9a83"
      },
      "outputs": [],
      "source": [
        "X_train=X_train.reshape(X_train.shape[0],X_train.shape[1],X_train.shape[2],1)\n",
        "X_validation=X_validation.reshape(X_validation.shape[0],X_validation.shape[1],X_validation.shape[2],1)\n",
        "X_test=X_test.reshape(X_test.shape[0],X_test.shape[1],X_test.shape[2],1)"
      ]
    },
    {
      "cell_type": "code",
      "execution_count": null,
      "id": "852b9715",
      "metadata": {
        "id": "852b9715"
      },
      "outputs": [],
      "source": [
        "dataGen= ImageDataGenerator(width_shift_range=0.1,\n",
        "                            height_shift_range=0.1,\n",
        "                            zoom_range=0.2,\n",
        "                            shear_range=0.1,\n",
        "                            rotation_range=10)"
      ]
    },
    {
      "cell_type": "code",
      "execution_count": null,
      "id": "1750e378",
      "metadata": {
        "id": "1750e378"
      },
      "outputs": [],
      "source": [
        "dataGen.fit(X_train)\n",
        "batches= dataGen.flow(X_train,y_train,batch_size=20)\n",
        "X_batch,y_batch = next(batches)\n"
      ]
    },
    {
      "cell_type": "code",
      "execution_count": null,
      "id": "4f030088",
      "metadata": {
        "id": "4f030088"
      },
      "outputs": [],
      "source": [
        "\n",
        "y_train = to_categorical(y_train,noOfClasses)\n",
        "y_validation = to_categorical(y_validation,noOfClasses)\n",
        "y_test = to_categorical(y_test,noOfClasses)"
      ]
    },
    {
      "cell_type": "markdown",
      "id": "IzGlWy7haTy8",
      "metadata": {
        "id": "IzGlWy7haTy8"
      },
      "source": [
        "### CNN Implementation"
      ]
    },
    {
      "cell_type": "code",
      "execution_count": null,
      "id": "da693ee3",
      "metadata": {
        "id": "da693ee3"
      },
      "outputs": [],
      "source": [
        "def myModel():\n",
        "    model= Sequential()\n",
        "    model.add((Conv2D(60,(5,5),input_shape=(imageDimesions[0],imageDimesions[1],1),activation='relu')))  # ADDING MORE CONVOLUTION LAYERS = LESS FEATURES BUT CAN CAUSE ACCURACY TO INCREASE\n",
        "    model.add((Conv2D(60, (5,5), activation='relu')))\n",
        "    model.add(MaxPooling2D(pool_size=(2,2)))\n",
        "    model.add((Conv2D(30, (3,3),activation='relu')))\n",
        "    model.add((Conv2D(30, (3,3), activation='relu')))\n",
        "    model.add(MaxPooling2D(pool_size=(2,2)))\n",
        "    model.add(Dropout(0.5))\n",
        "    model.add(Flatten())\n",
        "    model.add(Dense(500,activation='relu'))\n",
        "    model.add(Dropout(0.5))\n",
        "    model.add(Dense(noOfClasses,activation='softmax'))\n",
        "    model.compile(Adam(learning_rate=0.001),loss='categorical_crossentropy',metrics=['accuracy'])\n",
        "    return model\n",
        "\n"
      ]
    },
    {
      "cell_type": "code",
      "execution_count": null,
      "id": "c6556e7a",
      "metadata": {
        "colab": {
          "base_uri": "https://localhost:8080/"
        },
        "id": "c6556e7a",
        "outputId": "fd7854df-7cba-4f04-e758-d9f0e1db78ab"
      },
      "outputs": [
        {
          "name": "stderr",
          "output_type": "stream",
          "text": [
            "WARNING:absl:`lr` is deprecated in Keras optimizer, please use `learning_rate` or use the legacy optimizer, e.g.,tf.keras.optimizers.legacy.Adam.\n"
          ]
        },
        {
          "name": "stdout",
          "output_type": "stream",
          "text": [
            "Model: \"sequential\"\n",
            "_________________________________________________________________\n",
            " Layer (type)                Output Shape              Param #   \n",
            "=================================================================\n",
            " conv2d (Conv2D)             (None, 28, 28, 60)        1560      \n",
            "                                                                 \n",
            " conv2d_1 (Conv2D)           (None, 24, 24, 60)        90060     \n",
            "                                                                 \n",
            " max_pooling2d (MaxPooling2  (None, 12, 12, 60)        0         \n",
            " D)                                                              \n",
            "                                                                 \n",
            " conv2d_2 (Conv2D)           (None, 10, 10, 30)        16230     \n",
            "                                                                 \n",
            " conv2d_3 (Conv2D)           (None, 8, 8, 30)          8130      \n",
            "                                                                 \n",
            " max_pooling2d_1 (MaxPoolin  (None, 4, 4, 30)          0         \n",
            " g2D)                                                            \n",
            "                                                                 \n",
            " dropout (Dropout)           (None, 4, 4, 30)          0         \n",
            "                                                                 \n",
            " flatten (Flatten)           (None, 480)               0         \n",
            "                                                                 \n",
            " dense (Dense)               (None, 500)               240500    \n",
            "                                                                 \n",
            " dropout_1 (Dropout)         (None, 500)               0         \n",
            "                                                                 \n",
            " dense_1 (Dense)             (None, 43)                21543     \n",
            "                                                                 \n",
            "=================================================================\n",
            "Total params: 378023 (1.44 MB)\n",
            "Trainable params: 378023 (1.44 MB)\n",
            "Non-trainable params: 0 (0.00 Byte)\n",
            "_________________________________________________________________\n",
            "None\n"
          ]
        },
        {
          "name": "stderr",
          "output_type": "stream",
          "text": [
            "<ipython-input-35-744d748dc387>:3: UserWarning: `Model.fit_generator` is deprecated and will be removed in a future version. Please use `Model.fit`, which supports generators.\n",
            "  history=model.fit_generator(dataGen.flow(X_train,y_train,batch_size=32),steps_per_epoch=len(X_train)//32,epochs=epochs_val,validation_data=(X_validation,y_validation),shuffle=1)\n"
          ]
        },
        {
          "name": "stdout",
          "output_type": "stream",
          "text": [
            "Epoch 1/10\n",
            "695/695 [==============================] - 250s 350ms/step - loss: 2.3593 - accuracy: 0.3419 - val_loss: 0.7488 - val_accuracy: 0.7997\n",
            "Epoch 2/10\n",
            "695/695 [==============================] - 229s 330ms/step - loss: 1.1339 - accuracy: 0.6552 - val_loss: 0.2734 - val_accuracy: 0.9269\n",
            "Epoch 3/10\n",
            "695/695 [==============================] - 219s 315ms/step - loss: 0.7348 - accuracy: 0.7712 - val_loss: 0.1806 - val_accuracy: 0.9447\n",
            "Epoch 4/10\n",
            "695/695 [==============================] - 224s 323ms/step - loss: 0.5940 - accuracy: 0.8174 - val_loss: 0.1168 - val_accuracy: 0.9688\n",
            "Epoch 5/10\n",
            "695/695 [==============================] - 225s 323ms/step - loss: 0.4781 - accuracy: 0.8536 - val_loss: 0.0984 - val_accuracy: 0.9707\n",
            "Epoch 6/10\n",
            "695/695 [==============================] - 221s 318ms/step - loss: 0.4015 - accuracy: 0.8727 - val_loss: 0.0587 - val_accuracy: 0.9844\n",
            "Epoch 7/10\n",
            "695/695 [==============================] - 235s 338ms/step - loss: 0.3535 - accuracy: 0.8888 - val_loss: 0.0752 - val_accuracy: 0.9806\n",
            "Epoch 8/10\n",
            "695/695 [==============================] - 233s 335ms/step - loss: 0.3301 - accuracy: 0.8953 - val_loss: 0.0479 - val_accuracy: 0.9864\n",
            "Epoch 9/10\n",
            "695/695 [==============================] - 242s 348ms/step - loss: 0.2994 - accuracy: 0.9077 - val_loss: 0.0448 - val_accuracy: 0.9883\n",
            "Epoch 10/10\n",
            "695/695 [==============================] - 234s 336ms/step - loss: 0.2765 - accuracy: 0.9134 - val_loss: 0.0496 - val_accuracy: 0.9842\n"
          ]
        }
      ],
      "source": [
        "model = myModel()\n",
        "print(model.summary())\n",
        "history = model.fit(dataGen.flow(X_train, y_train, batch_size=32),\n",
        "                    steps_per_epoch=len(X_train) // 32,\n",
        "                    epochs=epochs_val,\n",
        "                    validation_data=(X_validation, y_validation),\n",
        "                    shuffle=True)\n"
      ]
    },
    {
      "cell_type": "markdown",
      "id": "gwZoLzj1acYR",
      "metadata": {
        "id": "gwZoLzj1acYR"
      },
      "source": [
        "### Evluation Metrics"
      ]
    },
    {
      "cell_type": "code",
      "execution_count": null,
      "id": "99dd344d",
      "metadata": {
        "colab": {
          "base_uri": "https://localhost:8080/",
          "height": 962
        },
        "id": "99dd344d",
        "outputId": "d37afebb-b745-4541-a73b-d1989444dd63"
      },
      "outputs": [
        {
          "data": {
            "image/png": "[encoded data removed]",
            "text/plain": [
              "<Figure size 640x480 with 1 Axes>"
            ]
          },
          "metadata": {},
          "output_type": "display_data"
        },
        {
          "data": {
            "image/png": "[encoded data removed]",
            "text/plain": [
              "<Figure size 640x480 with 1 Axes>"
            ]
          },
          "metadata": {},
          "output_type": "display_data"
        },
        {
          "name": "stdout",
          "output_type": "stream",
          "text": [
            "Test Score: 0.045360542833805084\n",
            "Test Accuracy: 0.9863505959510803\n"
          ]
        }
      ],
      "source": [
        "plt.figure(1)\n",
        "plt.plot(history.history['loss'])\n",
        "plt.plot(history.history['val_loss'])\n",
        "plt.legend(['training','validation'])\n",
        "plt.title('loss')\n",
        "plt.xlabel('epoch')\n",
        "plt.figure(2)\n",
        "plt.plot(history.history['accuracy'])\n",
        "plt.plot(history.history['val_accuracy'])\n",
        "plt.legend(['training','validation'])\n",
        "plt.title('Acurracy')\n",
        "plt.xlabel('epoch')\n",
        "plt.show()\n",
        "score =model.evaluate(X_test,y_test,verbose=0)\n",
        "print('Test Score:',score[0])\n",
        "print('Test Accuracy:',score[1])"
      ]
    },
    {
      "cell_type": "markdown",
      "id": "Nw9dAarWajRn",
      "metadata": {
        "id": "Nw9dAarWajRn"
      },
      "source": [
        "## Saved the Model"
      ]
    },
    {
      "cell_type": "code",
      "execution_count": null,
      "id": "e85b92bb",
      "metadata": {
        "id": "e85b92bb"
      },
      "outputs": [],
      "source": [
        "model.save(\"model.h5\")"
      ]
    },
    {
      "cell_type": "code",
      "execution_count": null,
      "id": "d81f5299",
      "metadata": {
        "id": "d81f5299"
      },
      "outputs": [],
      "source": []
    },
    {
      "cell_type": "code",
      "execution_count": null,
      "id": "fbaf8776",
      "metadata": {
        "id": "fbaf8776"
      },
      "outputs": [],
      "source": []
    },
    {
      "cell_type": "code",
      "execution_count": null,
      "id": "580875db",
      "metadata": {
        "id": "580875db"
      },
      "outputs": [],
      "source": []
    },
    {
      "cell_type": "code",
      "execution_count": null,
      "id": "ea8b668f",
      "metadata": {
        "id": "ea8b668f"
      },
      "outputs": [],
      "source": []
    },
    {
      "cell_type": "code",
      "execution_count": null,
      "id": "a103b130",
      "metadata": {
        "id": "a103b130"
      },
      "outputs": [],
      "source": []
    },
    {
      "cell_type": "code",
      "execution_count": null,
      "id": "f071e12d",
      "metadata": {
        "id": "f071e12d"
      },
      "outputs": [],
      "source": []
    },
    {
      "cell_type": "code",
      "execution_count": null,
      "id": "5fd26038",
      "metadata": {
        "id": "5fd26038"
      },
      "outputs": [],
      "source": []
    },
    {
      "cell_type": "code",
      "execution_count": null,
      "id": "40d15a82",
      "metadata": {
        "id": "40d15a82"
      },
      "outputs": [],
      "source": []
    },
    {
      "cell_type": "code",
      "execution_count": null,
      "id": "4be1d832",
      "metadata": {
        "id": "4be1d832"
      },
      "outputs": [],
      "source": []
    },
    {
      "cell_type": "code",
      "execution_count": null,
      "id": "40824698",
      "metadata": {
        "id": "40824698"
      },
      "outputs": [],
      "source": []
    },
    {
      "cell_type": "code",
      "execution_count": null,
      "id": "0e25d166",
      "metadata": {
        "id": "0e25d166"
      },
      "outputs": [],
      "source": []
    },
    {
      "cell_type": "code",
      "execution_count": null,
      "id": "672ab6d3",
      "metadata": {
        "id": "672ab6d3"
      },
      "outputs": [],
      "source": []
    },
    {
      "cell_type": "code",
      "execution_count": null,
      "id": "c8f5d94d",
      "metadata": {
        "id": "c8f5d94d"
      },
      "outputs": [],
      "source": []
    },
    {
      "cell_type": "code",
      "execution_count": null,
      "id": "e1fccc3f",
      "metadata": {
        "id": "e1fccc3f"
      },
      "outputs": [],
      "source": []
    },
    {
      "cell_type": "code",
      "execution_count": null,
      "id": "91f30dd3",
      "metadata": {
        "id": "91f30dd3"
      },
      "outputs": [],
      "source": []
    },
    {
      "cell_type": "code",
      "execution_count": null,
      "id": "387c6dfe",
      "metadata": {
        "id": "387c6dfe"
      },
      "outputs": [],
      "source": []
    },
    {
      "cell_type": "code",
      "execution_count": null,
      "id": "90eda457",
      "metadata": {
        "id": "90eda457"
      },
      "outputs": [],
      "source": []
    },
    {
      "cell_type": "code",
      "execution_count": null,
      "id": "f81f5bcf",
      "metadata": {
        "id": "f81f5bcf"
      },
      "outputs": [],
      "source": []
    },
    {
      "cell_type": "code",
      "execution_count": null,
      "id": "0b706e93",
      "metadata": {
        "id": "0b706e93"
      },
      "outputs": [],
      "source": []
    },
    {
      "cell_type": "code",
      "execution_count": null,
      "id": "41bb2c54",
      "metadata": {
        "id": "41bb2c54"
      },
      "outputs": [],
      "source": []
    },
    {
      "cell_type": "code",
      "execution_count": null,
      "id": "2d76ca5a",
      "metadata": {
        "id": "2d76ca5a"
      },
      "outputs": [],
      "source": []
    },
    {
      "cell_type": "code",
      "execution_count": null,
      "id": "589b1e29",
      "metadata": {
        "id": "589b1e29"
      },
      "outputs": [],
      "source": []
    },
    {
      "cell_type": "code",
      "execution_count": null,
      "id": "be18ca72",
      "metadata": {
        "id": "be18ca72"
      },
      "outputs": [],
      "source": []
    },
    {
      "cell_type": "code",
      "execution_count": null,
      "id": "891d0870",
      "metadata": {
        "id": "891d0870"
      },
      "outputs": [],
      "source": []
    },
    {
      "cell_type": "code",
      "execution_count": null,
      "id": "16bdb61d",
      "metadata": {
        "id": "16bdb61d"
      },
      "outputs": [],
      "source": []
    },
    {
      "cell_type": "code",
      "execution_count": null,
      "id": "665ad9ff",
      "metadata": {
        "id": "665ad9ff"
      },
      "outputs": [],
      "source": []
    },
    {
      "cell_type": "code",
      "execution_count": null,
      "id": "9d3b7617",
      "metadata": {
        "id": "9d3b7617"
      },
      "outputs": [],
      "source": []
    },
    {
      "cell_type": "code",
      "execution_count": null,
      "id": "9fc87c4e",
      "metadata": {
        "id": "9fc87c4e"
      },
      "outputs": [],
      "source": []
    },
    {
      "cell_type": "code",
      "execution_count": null,
      "id": "4f2353aa",
      "metadata": {
        "id": "4f2353aa"
      },
      "outputs": [],
      "source": []
    },
    {
      "cell_type": "code",
      "execution_count": null,
      "id": "d187dd27",
      "metadata": {
        "id": "d187dd27"
      },
      "outputs": [],
      "source": []
    },
    {
      "cell_type": "code",
      "execution_count": null,
      "id": "acbd0216",
      "metadata": {
        "id": "acbd0216"
      },
      "outputs": [],
      "source": []
    },
    {
      "cell_type": "code",
      "execution_count": null,
      "id": "d9e7da68",
      "metadata": {
        "id": "d9e7da68"
      },
      "outputs": [],
      "source": []
    }
  ],
  "metadata": {
    "colab": {
      "include_colab_link": true,
      "provenance": []
    },
    "kernelspec": {
      "display_name": "Python 3 (ipykernel)",
      "language": "python",
      "name": "python3"
    },
    "language_info": {
      "codemirror_mode": {
        "name": "ipython",
        "version": 3
      },
      "file_extension": ".py",
      "mimetype": "text/x-python",
      "name": "python",
      "nbconvert_exporter": "python",
      "pygments_lexer": "ipython3",
      "version": "3.10.9"
    }
  },
  "nbformat": 4,
  "nbformat_minor": 5
}
